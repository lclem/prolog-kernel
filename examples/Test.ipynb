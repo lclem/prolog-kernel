{
 "cells": [
  {
   "cell_type": "code",
   "execution_count": 1,
   "metadata": {},
   "outputs": [
    {
     "name": "stdout",
     "output_type": "stream",
     "text": [
      "ciao\n",
      "\u001b[1mtrue.\u001b[0m"
     ]
    }
   ],
   "source": [
    ":- module(test, []).\n",
    "\n",
    ":- write(ciao)."
   ]
  },
  {
   "cell_type": "code",
   "execution_count": null,
   "metadata": {},
   "outputs": [],
   "source": []
  }
 ],
 "metadata": {
  "kernelspec": {
   "display_name": "prolog",
   "language": "prolog",
   "name": "prolog"
  },
  "language_info": {
   "file_extension": ".pl",
   "mimetype": "text/prolog",
   "name": "prolog"
  }
 },
 "nbformat": 4,
 "nbformat_minor": 2
}
