{
 "cells": [
  {
   "cell_type": "code",
   "execution_count": 6,
   "metadata": {},
   "outputs": [
    {
     "name": "stdout",
     "output_type": "stream",
     "text": [
      "ciao\n",
      "\u001b[1mtrue.\u001b[0m"
     ]
    }
   ],
   "source": [
    ":- module(test, []).\n",
    "\n",
    ":- write(ciao)."
   ]
  },
  {
   "cell_type": "code",
   "execution_count": 5,
   "metadata": {},
   "outputs": [
    {
     "name": "stdout",
     "output_type": "stream",
     "text": [
      "ciao2\n",
      "\u001b[1mtrue.\u001b[0m"
     ]
    }
   ],
   "source": [
    ":- module(test2, []).\n",
    "\n",
    ":- write(ciao2)."
   ]
  },
  {
   "cell_type": "code",
   "execution_count": null,
   "metadata": {},
   "outputs": [],
   "source": [
    "\n"
   ]
  }
 ],
 "metadata": {
  "kernelspec": {
   "display_name": "prolog",
   "language": "prolog",
   "name": "prolog"
  },
  "language_info": {
   "file_extension": ".pl",
   "mimetype": "text/prolog",
   "name": "prolog"
  }
 },
 "nbformat": 4,
 "nbformat_minor": 2
}
