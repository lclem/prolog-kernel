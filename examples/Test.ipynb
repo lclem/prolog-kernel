{
 "cells": [
  {
   "cell_type": "markdown",
   "metadata": {
    "id": 0,
    "summary": true
   },
   "source": [
    "# First\n"
   ]
  },
  {
   "cell_type": "code",
   "execution_count": 1,
   "metadata": {},
   "outputs": [
    {
     "name": "stdout",
     "output_type": "stream",
     "text": [
      "hey\n",
      "\u001b[1mtrue.\u001b[0m"
     ]
    }
   ],
   "source": [
    ":- module(test, [foo/1]).\n",
    "\n",
    "foo(3).\n",
    "foo(5).\n",
    "\n",
    "% :- write(ciao).\n",
    ":- write(hey)."
   ]
  },
  {
   "cell_type": "code",
   "execution_count": 3,
   "metadata": {},
   "outputs": [
    {
     "name": "stdout",
     "output_type": "stream",
     "text": [
      "hey[3,5]\n",
      "\u001b[1mtrue.\u001b[0m"
     ]
    }
   ],
   "source": [
    ":- module(test2, []).\n",
    ":- use_module(test).\n",
    "\n",
    ":- findall(X, foo(X), Xs), write(Xs)."
   ]
  },
  {
   "cell_type": "markdown",
   "metadata": {},
   "source": [
    "# Second"
   ]
  },
  {
   "cell_type": "code",
   "execution_count": null,
   "metadata": {},
   "outputs": [],
   "source": []
  }
 ],
 "metadata": {
  "kernelspec": {
   "display_name": "prolog",
   "language": "prolog",
   "name": "prolog"
  },
  "language_info": {
   "file_extension": ".pl",
   "mimetype": "text/prolog",
   "name": "prolog"
  },
  "toc": {
   "base_numbering": 1,
   "nav_menu": {},
   "number_sections": true,
   "sideBar": true,
   "skip_h1_title": false,
   "title_cell": "Table of Contents",
   "title_sidebar": "Contents",
   "toc_cell": false,
   "toc_position": {},
   "toc_section_display": true,
   "toc_window_display": false
  }
 },
 "nbformat": 4,
 "nbformat_minor": 4
}
